{
 "cells": [
  {
   "cell_type": "code",
   "execution_count": null,
   "id": "df669194-8cc6-48fe-848b-1b707f1d87b1",
   "metadata": {},
   "outputs": [],
   "source": [
    "Q1. Explain Class and Object with respect to Object-Oriented Programming. Give a suitable example."
   ]
  },
  {
   "cell_type": "code",
   "execution_count": null,
   "id": "741d9996-d709-4b36-a957-1f2d0ba1f9c1",
   "metadata": {},
   "outputs": [],
   "source": [
    "A class can have attributes and methods. Attributes are the variables that store data, while methods are the functions that operate on the data. When an object is created, it can access the attributes and methods of its class.\n",
    "\n",
    "For example, let's say we have a class called \"Person\" that represents a person's attributes such as name, age, and address. We can create objects of this class for each person, and each object will have its own unique set of attributes."
   ]
  },
  {
   "cell_type": "code",
   "execution_count": null,
   "id": "af816e55-a07b-4958-be49-748d383fa835",
   "metadata": {},
   "outputs": [],
   "source": [
    "class Person:\n",
    "    def __init__(self, name, age, address):\n",
    "        self.name = name\n",
    "        self.age = age\n",
    "        self.address = address\n",
    "\n",
    "    def introduce(self):\n",
    "        print(\"Hi, my name is\", self.name, \"and I'm\", self.age, \"years old. I live at\", self.address)\n",
    "\n",
    "person1 = Person(\"John\", 25, \"123 Main St.\")\n",
    "person2 = Person(\"Jane\", 30, \"456 Elm St.\")\n",
    "\n",
    "person1.introduce() # Output: Hi, my name is John and I'm 25 years old. I live at 123 Main St.\n",
    "person2.introduce() # Output: Hi, my name is Jane and I'm 30 years old. I live at 456 Elm St.\n"
   ]
  },
  {
   "cell_type": "code",
   "execution_count": null,
   "id": "eb08261f-7e4a-4968-a4c6-f08b617c69dd",
   "metadata": {},
   "outputs": [],
   "source": [
    "Q2. Name the four pillars of OOPs.\n"
   ]
  },
  {
   "cell_type": "code",
   "execution_count": null,
   "id": "d137f5db-b422-462a-b4d7-09e516398381",
   "metadata": {},
   "outputs": [],
   "source": [
    "The four pillars of Object-Oriented Programming (OOPs) are:\n",
    "\n",
    "Encapsulation: Encapsulation refers to the concept of wrapping data and methods inside a single unit, such as a class. This provides better control over data and access to it, and helps to prevent unintended modifications.\n",
    "\n",
    "Inheritance: Inheritance refers to the ability of a class to inherit properties and behavior from a parent class. This allows for code reuse and helps to maintain consistency throughout an application.\n",
    "\n",
    "Polymorphism: Polymorphism refers to the ability of objects to take on multiple forms. This means that a single object can take on different behaviors and characteristics depending on its context.\n",
    "\n",
    "Abstraction: Abstraction refers to the process of hiding complex implementation details and showing only the relevant information to the user. This makes the code more understandable and easier to maintain, as well as reducing its complexity.\n",
    "\n",
    "\n",
    "\n"
   ]
  },
  {
   "cell_type": "code",
   "execution_count": null,
   "id": "998f8b82-5219-4730-bf67-2a57dc556ba9",
   "metadata": {},
   "outputs": [],
   "source": [
    "Q3. Explain why the __init__() function is used. Give a suitable example.\n"
   ]
  },
  {
   "cell_type": "code",
   "execution_count": null,
   "id": "3751466a-888f-4de6-9951-226807a7466e",
   "metadata": {},
   "outputs": [],
   "source": [
    "The __init__() function is a special method in Python classes that is called when an object is created. It is used to initialize the attributes of an object to specific values, and to perform any other setup that is required before the object can be used.\n",
    "\n",
    "One of the main benefits of using the __init__() function is that it allows us to create objects with pre-defined initial values for their attributes. This can save us time and effort in setting up each object manually.\n",
    "\n",
    "For example, let's say we have a class called Person that has three attributes: name, age, and address. We can define the __init__() function to take in these three attributes as arguments, and use them to initialize the corresponding attributes of the object.\n",
    "\n",
    "\n",
    "class Person:\n",
    "    def __init__(self, name, age, address):\n",
    "        self.name = name\n",
    "        self.age = age\n",
    "        self.address = address\n",
    "\n",
    "person1 = Person(\"John\", 25, \"123 Main St.\")\n",
    "print(person1.name)     # Output: John\n",
    "print(person1.age)      # Output: 25\n",
    "print(person1.address)  # Output: 123 Main St.\n"
   ]
  },
  {
   "cell_type": "code",
   "execution_count": null,
   "id": "50bcade2-b099-4739-aa6f-9d960de612ca",
   "metadata": {},
   "outputs": [],
   "source": [
    "Q4. Why self is used in OOPs?"
   ]
  },
  {
   "cell_type": "code",
   "execution_count": null,
   "id": "ef6a5d6c-62f2-4d36-9a3e-3a10ed683945",
   "metadata": {},
   "outputs": [],
   "source": [
    "In Object-Oriented Programming (OOP), self is a reference to the current instance of a class. It is used to access the attributes and methods of an object within its own class.\n",
    "\n",
    "When a class method is called on an object, the object itself is automatically passed as the first argument to the method. This first argument is conventionally called self. The self argument allows the method to access and modify the object's attributes and methods.\n",
    "\n",
    "For example, let's say we have a class called Person that has three attributes: name, age, and address. We can define a method within this class to introduce the person by printing out their attributes.\n",
    "\n"
   ]
  },
  {
   "cell_type": "code",
   "execution_count": null,
   "id": "ecb61dbf-9b5a-4714-a53a-5a2882ee84c2",
   "metadata": {},
   "outputs": [],
   "source": [
    "Q5. What is inheritance? Give an example for each type of inheritance."
   ]
  }
 ],
 "metadata": {
  "kernelspec": {
   "display_name": "Python 3 (ipykernel)",
   "language": "python",
   "name": "python3"
  },
  "language_info": {
   "codemirror_mode": {
    "name": "ipython",
    "version": 3
   },
   "file_extension": ".py",
   "mimetype": "text/x-python",
   "name": "python",
   "nbconvert_exporter": "python",
   "pygments_lexer": "ipython3",
   "version": "3.10.8"
  }
 },
 "nbformat": 4,
 "nbformat_minor": 5
}
